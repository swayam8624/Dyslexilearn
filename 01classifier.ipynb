{
 "cells": [
  {
   "cell_type": "code",
   "execution_count": 1,
   "metadata": {},
   "outputs": [],
   "source": [
    "import torch\n",
    "import torch.nn as nn\n",
    "import torch.optim as optim\n",
    "from torchvision import datasets, transforms\n",
    "from torch.utils.data import DataLoader\n",
    "from sklearn.metrics import classification_report, accuracy_score\n",
    "import matplotlib.pyplot as plt\n",
    "import numpy as np\n",
    "import tqdm\n",
    "import os"
   ]
  },
  {
   "cell_type": "code",
   "execution_count": 2,
   "metadata": {},
   "outputs": [],
   "source": [
    "\n",
    "\n",
    "# Directories for training and testing data\n",
    "train_dir = \"Gambo/Train/\"\n",
    "test_dir = \"Gambo/Test/\"\n",
    "\n",
    "# Define transforms for the images\n",
    "# This example converts images to grayscale, resizes them to 28x28, and normalizes the pixel values.\n",
    "transform = transforms.Compose([\n",
    "    transforms.Grayscale(num_output_channels=1),  # Remove if images are already grayscale\n",
    "    transforms.Resize((28, 28)),\n",
    "    transforms.ToTensor(),\n",
    "    transforms.Normalize((0.5,), (0.5,))  # Adjust normalization if needed\n",
    "])\n",
    "\n",
    "# Load the datasets\n",
    "train_dataset = datasets.ImageFolder(train_dir, transform=transform)\n",
    "test_dataset = datasets.ImageFolder(test_dir, transform=transform)\n",
    "\n",
    "# Create DataLoaders\n",
    "train_loader = DataLoader(train_dataset, batch_size=32, shuffle=True)\n",
    "test_loader = DataLoader(test_dataset, batch_size=32, shuffle=False)\n",
    "\n",
    "\n"
   ]
  },
  {
   "cell_type": "code",
   "execution_count": 3,
   "metadata": {},
   "outputs": [],
   "source": [
    "# Define a simple CNN model\n",
    "class CNNModel(nn.Module):\n",
    "    def __init__(self, num_classes):\n",
    "        super(CNNModel, self).__init__()\n",
    "        self.conv1 = nn.Conv2d(1, 32, kernel_size=3, padding=1)  # Output: [32, 28, 28]\n",
    "        self.pool = nn.MaxPool2d(2, 2)                           # Output: [32, 14, 14]\n",
    "        self.conv2 = nn.Conv2d(32, 64, kernel_size=3, padding=1) # Output: [64, 14, 14]\n",
    "        # After pooling: [64, 7, 7]\n",
    "        self.fc1 = nn.Linear(64 * 7 * 7, 128)\n",
    "        self.dropout = nn.Dropout(0.5)\n",
    "        self.fc2 = nn.Linear(128, num_classes)\n",
    "    \n",
    "    def forward(self, x):\n",
    "        x = torch.relu(self.conv1(x))\n",
    "        x = self.pool(x)\n",
    "        x = torch.relu(self.conv2(x))\n",
    "        x = self.pool(x)\n",
    "        x = x.view(x.size(0), -1)  # Flatten the tensor\n",
    "        x = torch.relu(self.fc1(x))\n",
    "        x = self.dropout(x)\n",
    "        x = self.fc2(x)\n",
    "        return x\n",
    "\n"
   ]
  },
  {
   "cell_type": "code",
   "execution_count": 5,
   "metadata": {},
   "outputs": [
    {
     "name": "stdout",
     "output_type": "stream",
     "text": [
      "Classes: ['Corrected', 'Normal', 'Reversal']\n",
      "Device: mps\n"
     ]
    }
   ],
   "source": [
    "# Determine the number of classes from the dataset folder names\n",
    "num_classes = len(train_dataset.classes)\n",
    "print(\"Classes:\", train_dataset.classes)\n",
    "\n",
    "# Set device to GPU if available\n",
    "device = torch.device(\"mps\" if torch.backends.mps.is_available else \"cpu\")\n",
    "print(\"Device:\", device)\n",
    "model = CNNModel(num_classes).to(device)\n",
    "\n",
    "# Define loss function and optimizer\n",
    "criterion = nn.CrossEntropyLoss()\n",
    "optimizer = optim.Adam(model.parameters(), lr=0.001)"
   ]
  },
  {
   "cell_type": "code",
   "execution_count": 6,
   "metadata": {},
   "outputs": [
    {
     "name": "stdout",
     "output_type": "stream",
     "text": [
      "Epoch 1/10, Loss: 0.2207\n",
      "Epoch 2/10, Loss: 0.0998\n",
      "Epoch 3/10, Loss: 0.0737\n",
      "Epoch 4/10, Loss: 0.0603\n",
      "Epoch 5/10, Loss: 0.0511\n",
      "Epoch 6/10, Loss: 0.0451\n",
      "Epoch 7/10, Loss: 0.0390\n",
      "Epoch 8/10, Loss: 0.0354\n",
      "Epoch 9/10, Loss: 0.0326\n",
      "Epoch 10/10, Loss: 0.0318\n"
     ]
    }
   ],
   "source": [
    "# Train the model\n",
    "num_epochs = 10\n",
    "for epoch in range(num_epochs):\n",
    "    model.train()\n",
    "    running_loss = 0.0\n",
    "    for images, labels in train_loader:\n",
    "        images, labels = images.to(device), labels.to(device)\n",
    "        \n",
    "        optimizer.zero_grad()\n",
    "        outputs = model(images)\n",
    "        loss = criterion(outputs, labels)\n",
    "        loss.backward()\n",
    "        optimizer.step()\n",
    "        \n",
    "        running_loss += loss.item() * images.size(0)\n",
    "    epoch_loss = running_loss / len(train_loader.dataset)\n",
    "    print(f\"Epoch {epoch+1}/{num_epochs}, Loss: {epoch_loss:.4f}\")"
   ]
  },
  {
   "cell_type": "code",
   "execution_count": 7,
   "metadata": {},
   "outputs": [
    {
     "name": "stdout",
     "output_type": "stream",
     "text": [
      "Classification Report:\n",
      "              precision    recall  f1-score   support\n",
      "\n",
      "   Corrected       0.98      0.92      0.95     19284\n",
      "      Normal       0.76      0.93      0.84     19557\n",
      "    Reversal       0.92      0.76      0.83     17882\n",
      "\n",
      "    accuracy                           0.87     56723\n",
      "   macro avg       0.89      0.87      0.87     56723\n",
      "weighted avg       0.88      0.87      0.87     56723\n",
      "\n",
      "Accuracy: 0.8712\n"
     ]
    }
   ],
   "source": [
    "# Evaluate the model on the test set\n",
    "model.eval()\n",
    "all_preds = []\n",
    "all_labels = []\n",
    "with torch.no_grad():\n",
    "    for images, labels in test_loader:\n",
    "        images, labels = images.to(device), labels.to(device)\n",
    "        outputs = model(images)\n",
    "        _, preds = torch.max(outputs, 1)\n",
    "        all_preds.extend(preds.cpu().numpy())\n",
    "        all_labels.extend(labels.cpu().numpy())\n",
    "\n",
    "# Print evaluation metrics\n",
    "print(\"Classification Report:\")\n",
    "print(classification_report(all_labels, all_preds, target_names=train_dataset.classes))\n",
    "print(f\"Accuracy: {accuracy_score(all_labels, all_preds):.4f}\")"
   ]
  },
  {
   "cell_type": "code",
   "execution_count": 8,
   "metadata": {},
   "outputs": [
    {
     "data": {
      "image/png": "[encoded data removed]",
      "text/plain": [
       "<Figure size 640x480 with 1 Axes>"
      ]
     },
     "metadata": {},
     "output_type": "display_data"
    }
   ],
   "source": [
    "# Visualize a sample prediction from the test set\n",
    "sample_img, sample_label = test_dataset[0]\n",
    "model.eval()\n",
    "with torch.no_grad():\n",
    "    sample_img_tensor = sample_img.unsqueeze(0).to(device)\n",
    "    output = model(sample_img_tensor)\n",
    "    pred = torch.argmax(output, dim=1).item()\n",
    "\n",
    "plt.imshow(sample_img.squeeze(), cmap='gray')\n",
    "plt.title(f\"True: {train_dataset.classes[sample_label]}, Predicted: {train_dataset.classes[pred]}\")\n",
    "plt.axis('off')\n",
    "plt.show()"
   ]
  },
  {
   "cell_type": "code",
   "execution_count": null,
   "metadata": {},
   "outputs": [],
   "source": []
  }
 ],
 "metadata": {
  "kernelspec": {
   "display_name": "Python 3 (ipykernel)",
   "language": "python",
   "name": "python3"
  },
  "language_info": {
   "codemirror_mode": {
    "name": "ipython",
    "version": 3
   },
   "file_extension": ".py",
   "mimetype": "text/x-python",
   "name": "python",
   "nbconvert_exporter": "python",
   "pygments_lexer": "ipython3",
   "version": "3.10.16"
  }
 },
 "nbformat": 4,
 "nbformat_minor": 4
}
